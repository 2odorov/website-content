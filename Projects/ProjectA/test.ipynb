{
 "cells": [
  {
   "cell_type": "markdown",
   "id": "f27f98ff-08f3-46ff-9a5c-57ce77245b3c",
   "metadata": {},
   "source": [
    "This is a markdown test."
   ]
  },
  {
   "cell_type": "code",
   "execution_count": null,
   "id": "1bbb1a47-5a41-49a9-8910-338fed03c6c8",
   "metadata": {},
   "outputs": [],
   "source": [
    "print(\"This is a code test\")"
   ]
  }
 ],
 "metadata": {
  "kernelspec": {
   "display_name": "Python 3 (ipykernel)",
   "language": "python",
   "name": "python3"
  },
  "language_info": {
   "codemirror_mode": {
    "name": "ipython",
    "version": 3
   },
   "file_extension": ".py",
   "mimetype": "text/x-python",
   "name": "python",
   "nbconvert_exporter": "python",
   "pygments_lexer": "ipython3",
   "version": "3.11.4"
  }
 },
 "nbformat": 4,
 "nbformat_minor": 5
}
